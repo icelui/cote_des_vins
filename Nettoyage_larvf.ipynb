{
 "cells": [
  {
   "cell_type": "code",
   "execution_count": 2,
   "metadata": {},
   "outputs": [
    {
     "output_type": "stream",
     "name": "stdout",
     "text": [
      "<class 'pandas.core.frame.DataFrame'>\nRangeIndex: 169460 entries, 0 to 169459\nData columns (total 15 columns):\n #   Column              Non-Null Count   Dtype \n---  ------              --------------   ----- \n 0   domain_name         169460 non-null  object\n 1   domain_stars        169460 non-null  int64 \n 2   wine_name           169460 non-null  object\n 3   Région              168997 non-null  object\n 4   Appellation         169455 non-null  object\n 5   vintage_twitterimg  169460 non-null  object\n 6   wine_types          169460 non-null  object\n 7   wine_varieties      169460 non-null  object\n 8   vintage             169460 non-null  object\n 9   vintage_types       20242 non-null   object\n 10  vintage_varieties   18609 non-null   object\n 11  vintage_prices      169460 non-null  object\n 12  review_score        169460 non-null  object\n 13  review_topline      169460 non-null  object\n 14  review_text         169460 non-null  object\ndtypes: int64(1), object(14)\nmemory usage: 19.4+ MB\nNone\n"
     ]
    }
   ],
   "source": [
    "import pandas as pd\n",
    "import glob\n",
    "\n",
    "path = r'.\\scrapy\\larvf\\larvf_0.01_output\\*.json'\n",
    "\n",
    "L_files = list()\n",
    "for filename in glob.glob(path):\n",
    "    DF_part = pd.read_json(filename)\n",
    "    L_files.append(DF_part)\n",
    "\n",
    "DF_rvf0 = pd.concat(L_files, axis=0, ignore_index=True)\n",
    "print(DF_rvf0.info())\n"
   ]
  },
  {
   "cell_type": "code",
   "execution_count": 3,
   "metadata": {},
   "outputs": [
    {
     "output_type": "display_data",
     "data": {
      "text/plain": "                                      domain_name  \\\n53661   Domaines David Duband - François Feuillet   \n37050                             Château Climens   \n104146                  Château Mouton Rothschild   \n394                             Domaine d’Auvenay   \n393                             Domaine d’Auvenay   \n104147                  Château Mouton Rothschild   \n391                             Domaine d’Auvenay   \n390                             Domaine d’Auvenay   \n389                             Domaine d’Auvenay   \n104148                  Château Mouton Rothschild   \n386                             Domaine d’Auvenay   \n104149                  Château Mouton Rothschild   \n104150                  Château Mouton Rothschild   \n57537                        Domaine Marcel Deiss   \n93453                               Domaine Leroy   \n139043                             Louis Roederer   \n13935                                   Bollinger   \n161470                            Château d’Yquem   \n139044                             Louis Roederer   \n161471                            Château d’Yquem   \n\n                                     wine_name vintage review_score  \\\n53661                     Chambertin Grand Cru    2013        20/20   \n37050                                   Barsac    1997        20/20   \n104146                                Pauillac    2000        20/20   \n394                 Mazis-Chambertin Grand Cru    2009        20/20   \n393                 Mazis-Chambertin Grand Cru    2010        20/20   \n104147                                Pauillac    2000        20/20   \n391                 Mazis-Chambertin Grand Cru    2012        20/20   \n390                 Mazis-Chambertin Grand Cru    2013        20/20   \n389                 Mazis-Chambertin Grand Cru    2014        20/20   \n104148                                Pauillac    2000        20/20   \n386                 Mazis-Chambertin Grand Cru    2017        20/20   \n104149                                Pauillac    2000        20/20   \n104150                                Pauillac    2000        20/20   \n57537   Alsace Grand Cru Altenberg de Bergheim    1999        20/20   \n93453                     Chambertin Grand Cru    2016        20/20   \n139043                            Brut Cristal    2008        20/20   \n13935                     Brut La Grande Année    1996        20/20   \n161470                               Sauternes    1990        20/20   \n139044                            Brut Cristal    2008        20/20   \n161471                               Sauternes    1990        20/20   \n\n         review_topline  \n53661   Guide vert 2016  \n37050   Guide vert 2007  \n104146  Guide vert 2006  \n394     Guide vert 2012  \n393     Guide vert 2013  \n104147  Guide vert 2005  \n391     Guide vert 2015  \n390     Guide vert 2016  \n389     Guide vert 2017  \n104148  Guide vert 2004  \n386     Guide vert 2020  \n104149  Guide vert 2003  \n104150  Guide vert 2002  \n57537   Guide vert 2003  \n93453   Guide vert 2019  \n139043                   \n13935   Guide vert 2005  \n161470  Guide vert 2003  \n139044                   \n161471  Guide vert 2002  ",
      "text/html": "<div>\n<style scoped>\n    .dataframe tbody tr th:only-of-type {\n        vertical-align: middle;\n    }\n\n    .dataframe tbody tr th {\n        vertical-align: top;\n    }\n\n    .dataframe thead th {\n        text-align: right;\n    }\n</style>\n<table border=\"1\" class=\"dataframe\">\n  <thead>\n    <tr style=\"text-align: right;\">\n      <th></th>\n      <th>domain_name</th>\n      <th>wine_name</th>\n      <th>vintage</th>\n      <th>review_score</th>\n      <th>review_topline</th>\n    </tr>\n  </thead>\n  <tbody>\n    <tr>\n      <th>53661</th>\n      <td>Domaines David Duband - François Feuillet</td>\n      <td>Chambertin Grand Cru</td>\n      <td>2013</td>\n      <td>20/20</td>\n      <td>Guide vert 2016</td>\n    </tr>\n    <tr>\n      <th>37050</th>\n      <td>Château Climens</td>\n      <td>Barsac</td>\n      <td>1997</td>\n      <td>20/20</td>\n      <td>Guide vert 2007</td>\n    </tr>\n    <tr>\n      <th>104146</th>\n      <td>Château Mouton Rothschild</td>\n      <td>Pauillac</td>\n      <td>2000</td>\n      <td>20/20</td>\n      <td>Guide vert 2006</td>\n    </tr>\n    <tr>\n      <th>394</th>\n      <td>Domaine d’Auvenay</td>\n      <td>Mazis-Chambertin Grand Cru</td>\n      <td>2009</td>\n      <td>20/20</td>\n      <td>Guide vert 2012</td>\n    </tr>\n    <tr>\n      <th>393</th>\n      <td>Domaine d’Auvenay</td>\n      <td>Mazis-Chambertin Grand Cru</td>\n      <td>2010</td>\n      <td>20/20</td>\n      <td>Guide vert 2013</td>\n    </tr>\n    <tr>\n      <th>104147</th>\n      <td>Château Mouton Rothschild</td>\n      <td>Pauillac</td>\n      <td>2000</td>\n      <td>20/20</td>\n      <td>Guide vert 2005</td>\n    </tr>\n    <tr>\n      <th>391</th>\n      <td>Domaine d’Auvenay</td>\n      <td>Mazis-Chambertin Grand Cru</td>\n      <td>2012</td>\n      <td>20/20</td>\n      <td>Guide vert 2015</td>\n    </tr>\n    <tr>\n      <th>390</th>\n      <td>Domaine d’Auvenay</td>\n      <td>Mazis-Chambertin Grand Cru</td>\n      <td>2013</td>\n      <td>20/20</td>\n      <td>Guide vert 2016</td>\n    </tr>\n    <tr>\n      <th>389</th>\n      <td>Domaine d’Auvenay</td>\n      <td>Mazis-Chambertin Grand Cru</td>\n      <td>2014</td>\n      <td>20/20</td>\n      <td>Guide vert 2017</td>\n    </tr>\n    <tr>\n      <th>104148</th>\n      <td>Château Mouton Rothschild</td>\n      <td>Pauillac</td>\n      <td>2000</td>\n      <td>20/20</td>\n      <td>Guide vert 2004</td>\n    </tr>\n    <tr>\n      <th>386</th>\n      <td>Domaine d’Auvenay</td>\n      <td>Mazis-Chambertin Grand Cru</td>\n      <td>2017</td>\n      <td>20/20</td>\n      <td>Guide vert 2020</td>\n    </tr>\n    <tr>\n      <th>104149</th>\n      <td>Château Mouton Rothschild</td>\n      <td>Pauillac</td>\n      <td>2000</td>\n      <td>20/20</td>\n      <td>Guide vert 2003</td>\n    </tr>\n    <tr>\n      <th>104150</th>\n      <td>Château Mouton Rothschild</td>\n      <td>Pauillac</td>\n      <td>2000</td>\n      <td>20/20</td>\n      <td>Guide vert 2002</td>\n    </tr>\n    <tr>\n      <th>57537</th>\n      <td>Domaine Marcel Deiss</td>\n      <td>Alsace Grand Cru Altenberg de Bergheim</td>\n      <td>1999</td>\n      <td>20/20</td>\n      <td>Guide vert 2003</td>\n    </tr>\n    <tr>\n      <th>93453</th>\n      <td>Domaine Leroy</td>\n      <td>Chambertin Grand Cru</td>\n      <td>2016</td>\n      <td>20/20</td>\n      <td>Guide vert 2019</td>\n    </tr>\n    <tr>\n      <th>139043</th>\n      <td>Louis Roederer</td>\n      <td>Brut Cristal</td>\n      <td>2008</td>\n      <td>20/20</td>\n      <td></td>\n    </tr>\n    <tr>\n      <th>13935</th>\n      <td>Bollinger</td>\n      <td>Brut La Grande Année</td>\n      <td>1996</td>\n      <td>20/20</td>\n      <td>Guide vert 2005</td>\n    </tr>\n    <tr>\n      <th>161470</th>\n      <td>Château d’Yquem</td>\n      <td>Sauternes</td>\n      <td>1990</td>\n      <td>20/20</td>\n      <td>Guide vert 2003</td>\n    </tr>\n    <tr>\n      <th>139044</th>\n      <td>Louis Roederer</td>\n      <td>Brut Cristal</td>\n      <td>2008</td>\n      <td>20/20</td>\n      <td></td>\n    </tr>\n    <tr>\n      <th>161471</th>\n      <td>Château d’Yquem</td>\n      <td>Sauternes</td>\n      <td>1990</td>\n      <td>20/20</td>\n      <td>Guide vert 2002</td>\n    </tr>\n  </tbody>\n</table>\n</div>"
     },
     "metadata": {}
    }
   ],
   "source": [
    "import re\n",
    "\n",
    "maincol = ['domain_name', 'wine_name', 'vintage', 'review_score', 'review_topline']\n",
    "\n",
    "# Construit une version numérique des notes (x/20) :\n",
    "DF_rvf = DF_rvf0.copy()\n",
    "DF_rvf['review_score_float'] = DF_rvf.review_score.apply(\n",
    "    lambda s : float(n) if ((n := re.sub(r\"/.*$\", \"\", s).replace(\",\", \".\")) != \"\") else None\n",
    ")\n",
    "\n",
    "# Les notes des \"Guides rouges\" (guide des vins pas chers) ne sont pas fiables ou pas à la\n",
    "# même échelle que celles du guide vert, et sans intérêt pour l'analyse des vins réputés,\n",
    "# donc je les supprime :\n",
    "keepmask = (DF_rvf.review_topline.str.slice(0,11)!='Guide rouge')\n",
    "DF_rvf = DF_rvf[keepmask]\n",
    "display(DF_rvf.sort_values(by='review_score_float', ascending=False)[maincol].head(20))"
   ]
  },
  {
   "cell_type": "code",
   "execution_count": 4,
   "metadata": {},
   "outputs": [
    {
     "output_type": "display_data",
     "data": {
      "text/plain": "11.0       61\n11.5       12\n12.0     3968\n12.5      567\n13.0     4971\n13.5     3579\n14.0    20857\n14.5    10078\n15.0    23251\n15.5    12289\n16.0    27025\n16.5     9141\n17.0    12630\n17.5     3417\n18.0     6010\n18.5     1483\n19.0     2814\n19.5      370\n20.0      377\nName: review_score_float, dtype: int64"
     },
     "metadata": {}
    }
   ],
   "source": [
    "\"\"\" display(DF_rvf.sort_values(by='review_score_float', ascending=True)[maincol].head(30))\n",
    "display(DF_rvf.review_score_float.dropna().value_counts(sort=False).sort_index())\n",
    "display(DF_rvf[maincol][DF_rvf.review_score_float==10].head(30))\n",
    "display(DF_rvf[maincol][DF_rvf.review_score_float==11].head(30)) \"\"\"\n",
    "\n",
    "# Les notes les plus faibles (<11) sont vraisemblablement, pour la plupart, des erreurs, \n",
    "# donc je les supprime :\n",
    "DF_rvf = DF_rvf[DF_rvf.review_score_float>=11]\n",
    "display(DF_rvf.review_score_float.dropna().value_counts(sort=False).sort_index())\n"
   ]
  },
  {
   "cell_type": "code",
   "execution_count": 5,
   "metadata": {},
   "outputs": [
    {
     "output_type": "stream",
     "name": "stdout",
     "text": [
      "<class 'pandas.core.frame.DataFrame'>\nInt64Index: 142900 entries, 2 to 169458\nData columns (total 16 columns):\n #   Column              Non-Null Count   Dtype  \n---  ------              --------------   -----  \n 0   domain_name         142900 non-null  object \n 1   domain_stars        142900 non-null  int64  \n 2   wine_name           142900 non-null  object \n 3   Région              142567 non-null  object \n 4   Appellation         142895 non-null  object \n 5   vintage_twitterimg  142900 non-null  object \n 6   wine_types          142900 non-null  object \n 7   wine_varieties      142900 non-null  object \n 8   vintage             142900 non-null  object \n 9   vintage_types       20155 non-null   object \n 10  vintage_varieties   18551 non-null   object \n 11  vintage_prices      142900 non-null  object \n 12  review_score        142900 non-null  object \n 13  review_topline      142900 non-null  object \n 14  review_text         142900 non-null  object \n 15  review_score_float  142900 non-null  float64\ndtypes: float64(1), int64(1), object(14)\nmemory usage: 18.5+ MB\n"
     ]
    }
   ],
   "source": [
    "DF_rvf.info()"
   ]
  },
  {
   "cell_type": "code",
   "execution_count": 6,
   "metadata": {},
   "outputs": [
    {
     "output_type": "execute_result",
     "data": {
      "text/plain": [
       "                          domain_name  domain_stars  \\\n",
       "164780             Château Vignelaure             0   \n",
       "153441          Château Saint-Georges             0   \n",
       "137744                Château Romanin             0   \n",
       "46040                   Domaine Cazes             0   \n",
       "77355                   Domaine Gauby             3   \n",
       "29602     Domaine Le Conte des Floris             1   \n",
       "77352                   Domaine Gauby             3   \n",
       "66220          Domaine Ferrer-Ribière             0   \n",
       "164800             Château Vignelaure             0   \n",
       "126131                   Julien Pilon             1   \n",
       "98398                 Domaine Laporte             0   \n",
       "46039                   Domaine Cazes             0   \n",
       "70763            Domaine La Grapperie             0   \n",
       "35839   Domaine du Clos des Tourelles             0   \n",
       "146834                  Domaine Sorin             0   \n",
       "\n",
       "                                          wine_name Région  \\\n",
       "164780             VDP du Var Domaine de Vignelaure    NaN   \n",
       "153441                  Saint-Georges Saint-Émilion    NaN   \n",
       "137744  VDP des Bouches du Rhône Jean Le Troubadour    NaN   \n",
       "46040                  VDP Côtes Catalanes Le Credo    NaN   \n",
       "77355          VDP Coteaux de Fenouillèdes Le Soula    NaN   \n",
       "29602                         Cartagène Noir Rimage    NaN   \n",
       "77352                    VDP Côtes Catalanes Aleaux    NaN   \n",
       "66220         VDP Côtes Catalanes Syrahnosaurus Rex    NaN   \n",
       "164800         VDP des Coteaux du Verdon La Colline    NaN   \n",
       "126131    IGP Collines Rhodaniennes De l'Autre Rive    NaN   \n",
       "98398                    VDP de pays Catalan Movida    NaN   \n",
       "46039                  VDP Côtes Catalanes Le Credo    NaN   \n",
       "70763                             VDF La Bueilloise    NaN   \n",
       "35839                                      Gigondas    NaN   \n",
       "146834                               VDP du Var ULM    NaN   \n",
       "\n",
       "                         Appellation                    vintage_twitterimg  \\\n",
       "164780             Côtes de Provence      bouteille-vin-provence-rouge.jpg   \n",
       "153441   Saint-Georges-Saint-Émilion      bouteille-vin-bordeaux-rouge.jpg   \n",
       "137744             Côtes de Provence      bouteille-vin-provence-rouge.jpg   \n",
       "46040            Côtes du Roussillon    bouteille-vin-roussillon-rouge.jpg   \n",
       "77355            Côtes du Roussillon    bouteille-vin-roussillon-blanc.jpg   \n",
       "29602     Vin de Liqueur (Languedoc)     bouteille-vin-languedoc-rouge.jpg   \n",
       "77352            Côtes du Roussillon    bouteille-vin-roussillon-blanc.jpg   \n",
       "66220            Côtes du Roussillon    bouteille-vin-roussillon-rouge.jpg   \n",
       "164800             Côtes de Provence      bouteille-vin-provence-rouge.jpg   \n",
       "126131     IGP Collines Rhodaniennes  bouteille-vin-vallee-rhone-rouge.jpg   \n",
       "98398            Côtes du Roussillon     bouteille-vin-roussillon-rose.jpg   \n",
       "46039            Côtes du Roussillon    bouteille-vin-roussillon-rouge.jpg   \n",
       "70763   Vin de France (Pays nantais)  bouteille-vin-vallee-loire-blanc.jpg   \n",
       "35839                       Gigondas                           vin-rvf.jpg   \n",
       "146834             Côtes de Provence      bouteille-vin-provence-rouge.jpg   \n",
       "\n",
       "       wine_types wine_varieties vintage vintage_types vintage_varieties  \\\n",
       "164780                              1997          None              None   \n",
       "153441                              1995          None              None   \n",
       "137744                              2000          None              None   \n",
       "46040                               2000          None              None   \n",
       "77355                               2001          None              None   \n",
       "29602                               2009          None              None   \n",
       "77352                               2000          None              None   \n",
       "66220                               2003          None              None   \n",
       "164800                              1999          None              None   \n",
       "126131                              2014          None              None   \n",
       "98398                               2002          None              None   \n",
       "46039                               2000          None              None   \n",
       "70763                               2013          None              None   \n",
       "35839                               2013          None              None   \n",
       "146834                              2000          None              None   \n",
       "\n",
       "       vintage_prices review_score    review_topline  \\\n",
       "164780                       12/20   Guide vert 2001   \n",
       "153441                       14/20   Guide vert 2001   \n",
       "137744           28 €        15/20   Guide vert 2002   \n",
       "46040         13,70 €        15/20   Guide vert 2005   \n",
       "77355                        17/20   Guide vert 2004   \n",
       "29602                        15/20   Guide vert 2012   \n",
       "77352                        16/20   Guide vert 2002   \n",
       "66220            15 €        15/20   Guide vert 2005   \n",
       "164800           24 €        14/20   Guide vert 2004   \n",
       "126131           14 €      13,5/20   Guide vert 2016   \n",
       "98398          5,20 €        12/20   Guide vert 2004   \n",
       "46039         13,70 €        14/20   Guide vert 2006   \n",
       "70763            14 €        14/20   Guide vert 2016   \n",
       "35839         15,50 €        15/20  Magazine RVF 606   \n",
       "146834           27 €        16/20   Guide vert 2005   \n",
       "\n",
       "                                              review_text  review_score_float  \n",
       "164780                                                                   12.0  \n",
       "153441                                                                   14.0  \n",
       "137744                                                                   15.0  \n",
       "46040                                                                    15.0  \n",
       "77355                                                                    17.0  \n",
       "29602                                                                    15.0  \n",
       "77352                                                                    16.0  \n",
       "66220                                                                    15.0  \n",
       "164800                                                                   14.0  \n",
       "126131                                                                   13.5  \n",
       "98398                                                                    12.0  \n",
       "46039                                                                    14.0  \n",
       "70763                                                                    14.0  \n",
       "35839   Nez délicat et doux de fruit. La bouche exprim...                15.0  \n",
       "146834                                                                   16.0  "
      ],
      "text/html": "<div>\n<style scoped>\n    .dataframe tbody tr th:only-of-type {\n        vertical-align: middle;\n    }\n\n    .dataframe tbody tr th {\n        vertical-align: top;\n    }\n\n    .dataframe thead th {\n        text-align: right;\n    }\n</style>\n<table border=\"1\" class=\"dataframe\">\n  <thead>\n    <tr style=\"text-align: right;\">\n      <th></th>\n      <th>domain_name</th>\n      <th>domain_stars</th>\n      <th>wine_name</th>\n      <th>Région</th>\n      <th>Appellation</th>\n      <th>vintage_twitterimg</th>\n      <th>wine_types</th>\n      <th>wine_varieties</th>\n      <th>vintage</th>\n      <th>vintage_types</th>\n      <th>vintage_varieties</th>\n      <th>vintage_prices</th>\n      <th>review_score</th>\n      <th>review_topline</th>\n      <th>review_text</th>\n      <th>review_score_float</th>\n    </tr>\n  </thead>\n  <tbody>\n    <tr>\n      <th>164780</th>\n      <td>Château Vignelaure</td>\n      <td>0</td>\n      <td>VDP du Var Domaine de Vignelaure</td>\n      <td>NaN</td>\n      <td>Côtes de Provence</td>\n      <td>bouteille-vin-provence-rouge.jpg</td>\n      <td></td>\n      <td></td>\n      <td>1997</td>\n      <td>None</td>\n      <td>None</td>\n      <td></td>\n      <td>12/20</td>\n      <td>Guide vert 2001</td>\n      <td></td>\n      <td>12.0</td>\n    </tr>\n    <tr>\n      <th>153441</th>\n      <td>Château Saint-Georges</td>\n      <td>0</td>\n      <td>Saint-Georges Saint-Émilion</td>\n      <td>NaN</td>\n      <td>Saint-Georges-Saint-Émilion</td>\n      <td>bouteille-vin-bordeaux-rouge.jpg</td>\n      <td></td>\n      <td></td>\n      <td>1995</td>\n      <td>None</td>\n      <td>None</td>\n      <td></td>\n      <td>14/20</td>\n      <td>Guide vert 2001</td>\n      <td></td>\n      <td>14.0</td>\n    </tr>\n    <tr>\n      <th>137744</th>\n      <td>Château Romanin</td>\n      <td>0</td>\n      <td>VDP des Bouches du Rhône Jean Le Troubadour</td>\n      <td>NaN</td>\n      <td>Côtes de Provence</td>\n      <td>bouteille-vin-provence-rouge.jpg</td>\n      <td></td>\n      <td></td>\n      <td>2000</td>\n      <td>None</td>\n      <td>None</td>\n      <td>28 €</td>\n      <td>15/20</td>\n      <td>Guide vert 2002</td>\n      <td></td>\n      <td>15.0</td>\n    </tr>\n    <tr>\n      <th>46040</th>\n      <td>Domaine Cazes</td>\n      <td>0</td>\n      <td>VDP Côtes Catalanes Le Credo</td>\n      <td>NaN</td>\n      <td>Côtes du Roussillon</td>\n      <td>bouteille-vin-roussillon-rouge.jpg</td>\n      <td></td>\n      <td></td>\n      <td>2000</td>\n      <td>None</td>\n      <td>None</td>\n      <td>13,70 €</td>\n      <td>15/20</td>\n      <td>Guide vert 2005</td>\n      <td></td>\n      <td>15.0</td>\n    </tr>\n    <tr>\n      <th>77355</th>\n      <td>Domaine Gauby</td>\n      <td>3</td>\n      <td>VDP Coteaux de Fenouillèdes Le Soula</td>\n      <td>NaN</td>\n      <td>Côtes du Roussillon</td>\n      <td>bouteille-vin-roussillon-blanc.jpg</td>\n      <td></td>\n      <td></td>\n      <td>2001</td>\n      <td>None</td>\n      <td>None</td>\n      <td></td>\n      <td>17/20</td>\n      <td>Guide vert 2004</td>\n      <td></td>\n      <td>17.0</td>\n    </tr>\n    <tr>\n      <th>29602</th>\n      <td>Domaine Le Conte des Floris</td>\n      <td>1</td>\n      <td>Cartagène Noir Rimage</td>\n      <td>NaN</td>\n      <td>Vin de Liqueur (Languedoc)</td>\n      <td>bouteille-vin-languedoc-rouge.jpg</td>\n      <td></td>\n      <td></td>\n      <td>2009</td>\n      <td>None</td>\n      <td>None</td>\n      <td></td>\n      <td>15/20</td>\n      <td>Guide vert 2012</td>\n      <td></td>\n      <td>15.0</td>\n    </tr>\n    <tr>\n      <th>77352</th>\n      <td>Domaine Gauby</td>\n      <td>3</td>\n      <td>VDP Côtes Catalanes Aleaux</td>\n      <td>NaN</td>\n      <td>Côtes du Roussillon</td>\n      <td>bouteille-vin-roussillon-blanc.jpg</td>\n      <td></td>\n      <td></td>\n      <td>2000</td>\n      <td>None</td>\n      <td>None</td>\n      <td></td>\n      <td>16/20</td>\n      <td>Guide vert 2002</td>\n      <td></td>\n      <td>16.0</td>\n    </tr>\n    <tr>\n      <th>66220</th>\n      <td>Domaine Ferrer-Ribière</td>\n      <td>0</td>\n      <td>VDP Côtes Catalanes Syrahnosaurus Rex</td>\n      <td>NaN</td>\n      <td>Côtes du Roussillon</td>\n      <td>bouteille-vin-roussillon-rouge.jpg</td>\n      <td></td>\n      <td></td>\n      <td>2003</td>\n      <td>None</td>\n      <td>None</td>\n      <td>15 €</td>\n      <td>15/20</td>\n      <td>Guide vert 2005</td>\n      <td></td>\n      <td>15.0</td>\n    </tr>\n    <tr>\n      <th>164800</th>\n      <td>Château Vignelaure</td>\n      <td>0</td>\n      <td>VDP des Coteaux du Verdon La Colline</td>\n      <td>NaN</td>\n      <td>Côtes de Provence</td>\n      <td>bouteille-vin-provence-rouge.jpg</td>\n      <td></td>\n      <td></td>\n      <td>1999</td>\n      <td>None</td>\n      <td>None</td>\n      <td>24 €</td>\n      <td>14/20</td>\n      <td>Guide vert 2004</td>\n      <td></td>\n      <td>14.0</td>\n    </tr>\n    <tr>\n      <th>126131</th>\n      <td>Julien Pilon</td>\n      <td>1</td>\n      <td>IGP Collines Rhodaniennes De l'Autre Rive</td>\n      <td>NaN</td>\n      <td>IGP Collines Rhodaniennes</td>\n      <td>bouteille-vin-vallee-rhone-rouge.jpg</td>\n      <td></td>\n      <td></td>\n      <td>2014</td>\n      <td>None</td>\n      <td>None</td>\n      <td>14 €</td>\n      <td>13,5/20</td>\n      <td>Guide vert 2016</td>\n      <td></td>\n      <td>13.5</td>\n    </tr>\n    <tr>\n      <th>98398</th>\n      <td>Domaine Laporte</td>\n      <td>0</td>\n      <td>VDP de pays Catalan Movida</td>\n      <td>NaN</td>\n      <td>Côtes du Roussillon</td>\n      <td>bouteille-vin-roussillon-rose.jpg</td>\n      <td></td>\n      <td></td>\n      <td>2002</td>\n      <td>None</td>\n      <td>None</td>\n      <td>5,20 €</td>\n      <td>12/20</td>\n      <td>Guide vert 2004</td>\n      <td></td>\n      <td>12.0</td>\n    </tr>\n    <tr>\n      <th>46039</th>\n      <td>Domaine Cazes</td>\n      <td>0</td>\n      <td>VDP Côtes Catalanes Le Credo</td>\n      <td>NaN</td>\n      <td>Côtes du Roussillon</td>\n      <td>bouteille-vin-roussillon-rouge.jpg</td>\n      <td></td>\n      <td></td>\n      <td>2000</td>\n      <td>None</td>\n      <td>None</td>\n      <td>13,70 €</td>\n      <td>14/20</td>\n      <td>Guide vert 2006</td>\n      <td></td>\n      <td>14.0</td>\n    </tr>\n    <tr>\n      <th>70763</th>\n      <td>Domaine La Grapperie</td>\n      <td>0</td>\n      <td>VDF La Bueilloise</td>\n      <td>NaN</td>\n      <td>Vin de France (Pays nantais)</td>\n      <td>bouteille-vin-vallee-loire-blanc.jpg</td>\n      <td></td>\n      <td></td>\n      <td>2013</td>\n      <td>None</td>\n      <td>None</td>\n      <td>14 €</td>\n      <td>14/20</td>\n      <td>Guide vert 2016</td>\n      <td></td>\n      <td>14.0</td>\n    </tr>\n    <tr>\n      <th>35839</th>\n      <td>Domaine du Clos des Tourelles</td>\n      <td>0</td>\n      <td>Gigondas</td>\n      <td>NaN</td>\n      <td>Gigondas</td>\n      <td>vin-rvf.jpg</td>\n      <td></td>\n      <td></td>\n      <td>2013</td>\n      <td>None</td>\n      <td>None</td>\n      <td>15,50 €</td>\n      <td>15/20</td>\n      <td>Magazine RVF 606</td>\n      <td>Nez délicat et doux de fruit. La bouche exprim...</td>\n      <td>15.0</td>\n    </tr>\n    <tr>\n      <th>146834</th>\n      <td>Domaine Sorin</td>\n      <td>0</td>\n      <td>VDP du Var ULM</td>\n      <td>NaN</td>\n      <td>Côtes de Provence</td>\n      <td>bouteille-vin-provence-rouge.jpg</td>\n      <td></td>\n      <td></td>\n      <td>2000</td>\n      <td>None</td>\n      <td>None</td>\n      <td>27 €</td>\n      <td>16/20</td>\n      <td>Guide vert 2005</td>\n      <td></td>\n      <td>16.0</td>\n    </tr>\n  </tbody>\n</table>\n</div>"
     },
     "metadata": {},
     "execution_count": 6
    }
   ],
   "source": [
    "# Les régions non renseignées correspondent à des vrais vins :\n",
    "DF_rvf[DF_rvf['Région'].isna()].sample(frac=1).head(15)\n"
   ]
  },
  {
   "cell_type": "code",
   "execution_count": 7,
   "metadata": {},
   "outputs": [
    {
     "output_type": "execute_result",
     "data": {
      "text/plain": [
       "                domain_name  domain_stars                         wine_name  \\\n",
       "34939          Clos Nicrosi             1                          Le Rappu   \n",
       "25444     Christophe Curtat             1                     IGP Roussanne   \n",
       "25447     Christophe Curtat             1                         IGP Syrah   \n",
       "44671   Château de Chamilly             1  Montagny Premier Cru Les Burnins   \n",
       "153915  Domaine Roger Sabon             1                       VDF Plaisir   \n",
       "\n",
       "                 Région Appellation vintage_twitterimg  \\\n",
       "34939          Provence         NaN        vin-rvf.jpg   \n",
       "25444   Vallée du Rhône         NaN        vin-rvf.jpg   \n",
       "25447   Vallée du Rhône         NaN        vin-rvf.jpg   \n",
       "44671         Bourgogne         NaN        vin-rvf.jpg   \n",
       "153915  Vallée du Rhône         NaN        vin-rvf.jpg   \n",
       "\n",
       "                      wine_types         wine_varieties vintage  \\\n",
       "34939   Vin de liqueur, Moelleux  Aleatico (Rouge) 100%           \n",
       "25444                                                      2014   \n",
       "25447                                                      2014   \n",
       "44671                                                      2014   \n",
       "153915                                                     2015   \n",
       "\n",
       "                   vintage_types      vintage_varieties vintage_prices  \\\n",
       "34939   Vin de liqueur, Moelleux  Aleatico (Rouge) 100%                  \n",
       "25444                       None                   None                  \n",
       "25447                       None                   None                  \n",
       "44671                       None                   None                  \n",
       "153915                      None                   None                  \n",
       "\n",
       "       review_score   review_topline  \\\n",
       "34939       16,5/20  Guide vert 2017   \n",
       "25444       15,5/20  Guide vert 2017   \n",
       "25447       14,5/20  Guide vert 2017   \n",
       "44671       14,5/20  Guide vert 2017   \n",
       "153915      13,5/20                    \n",
       "\n",
       "                                              review_text  review_score_float  \n",
       "34939   Confiture de figue et épices douces, une touch...                16.5  \n",
       "25444   Une belle fraîcheur se dessine, une roussanne ...                15.5  \n",
       "25447   Une palette sur le fruit, simple mais lisible,...                14.5  \n",
       "44671   Des notes de fleurs de vignes. La bouche est d...                14.5  \n",
       "153915  Un beau VDF comme on aimerait en trouver plus ...                13.5  "
      ],
      "text/html": "<div>\n<style scoped>\n    .dataframe tbody tr th:only-of-type {\n        vertical-align: middle;\n    }\n\n    .dataframe tbody tr th {\n        vertical-align: top;\n    }\n\n    .dataframe thead th {\n        text-align: right;\n    }\n</style>\n<table border=\"1\" class=\"dataframe\">\n  <thead>\n    <tr style=\"text-align: right;\">\n      <th></th>\n      <th>domain_name</th>\n      <th>domain_stars</th>\n      <th>wine_name</th>\n      <th>Région</th>\n      <th>Appellation</th>\n      <th>vintage_twitterimg</th>\n      <th>wine_types</th>\n      <th>wine_varieties</th>\n      <th>vintage</th>\n      <th>vintage_types</th>\n      <th>vintage_varieties</th>\n      <th>vintage_prices</th>\n      <th>review_score</th>\n      <th>review_topline</th>\n      <th>review_text</th>\n      <th>review_score_float</th>\n    </tr>\n  </thead>\n  <tbody>\n    <tr>\n      <th>34939</th>\n      <td>Clos Nicrosi</td>\n      <td>1</td>\n      <td>Le Rappu</td>\n      <td>Provence</td>\n      <td>NaN</td>\n      <td>vin-rvf.jpg</td>\n      <td>Vin de liqueur, Moelleux</td>\n      <td>Aleatico (Rouge) 100%</td>\n      <td></td>\n      <td>Vin de liqueur, Moelleux</td>\n      <td>Aleatico (Rouge) 100%</td>\n      <td></td>\n      <td>16,5/20</td>\n      <td>Guide vert 2017</td>\n      <td>Confiture de figue et épices douces, une touch...</td>\n      <td>16.5</td>\n    </tr>\n    <tr>\n      <th>25444</th>\n      <td>Christophe Curtat</td>\n      <td>1</td>\n      <td>IGP Roussanne</td>\n      <td>Vallée du Rhône</td>\n      <td>NaN</td>\n      <td>vin-rvf.jpg</td>\n      <td></td>\n      <td></td>\n      <td>2014</td>\n      <td>None</td>\n      <td>None</td>\n      <td></td>\n      <td>15,5/20</td>\n      <td>Guide vert 2017</td>\n      <td>Une belle fraîcheur se dessine, une roussanne ...</td>\n      <td>15.5</td>\n    </tr>\n    <tr>\n      <th>25447</th>\n      <td>Christophe Curtat</td>\n      <td>1</td>\n      <td>IGP Syrah</td>\n      <td>Vallée du Rhône</td>\n      <td>NaN</td>\n      <td>vin-rvf.jpg</td>\n      <td></td>\n      <td></td>\n      <td>2014</td>\n      <td>None</td>\n      <td>None</td>\n      <td></td>\n      <td>14,5/20</td>\n      <td>Guide vert 2017</td>\n      <td>Une palette sur le fruit, simple mais lisible,...</td>\n      <td>14.5</td>\n    </tr>\n    <tr>\n      <th>44671</th>\n      <td>Château de Chamilly</td>\n      <td>1</td>\n      <td>Montagny Premier Cru Les Burnins</td>\n      <td>Bourgogne</td>\n      <td>NaN</td>\n      <td>vin-rvf.jpg</td>\n      <td></td>\n      <td></td>\n      <td>2014</td>\n      <td>None</td>\n      <td>None</td>\n      <td></td>\n      <td>14,5/20</td>\n      <td>Guide vert 2017</td>\n      <td>Des notes de fleurs de vignes. La bouche est d...</td>\n      <td>14.5</td>\n    </tr>\n    <tr>\n      <th>153915</th>\n      <td>Domaine Roger Sabon</td>\n      <td>1</td>\n      <td>VDF Plaisir</td>\n      <td>Vallée du Rhône</td>\n      <td>NaN</td>\n      <td>vin-rvf.jpg</td>\n      <td></td>\n      <td></td>\n      <td>2015</td>\n      <td>None</td>\n      <td>None</td>\n      <td></td>\n      <td>13,5/20</td>\n      <td></td>\n      <td>Un beau VDF comme on aimerait en trouver plus ...</td>\n      <td>13.5</td>\n    </tr>\n  </tbody>\n</table>\n</div>"
     },
     "metadata": {},
     "execution_count": 7
    }
   ],
   "source": [
    "# Les appellations non renseignées correspondent à de vrais vins :\n",
    "DF_rvf[DF_rvf['Appellation'].isna()].sample(frac=1).head(15)"
   ]
  },
  {
   "cell_type": "code",
   "execution_count": 8,
   "metadata": {},
   "outputs": [
    {
     "output_type": "stream",
     "name": "stdout",
     "text": [
      "<class 'pandas.core.frame.DataFrame'>\nInt64Index: 142900 entries, 2 to 169458\nData columns (total 16 columns):\n #   Column              Non-Null Count   Dtype  \n---  ------              --------------   -----  \n 0   domain_name         142900 non-null  object \n 1   domain_stars        142900 non-null  int64  \n 2   wine_name           142900 non-null  object \n 3   region              142567 non-null  object \n 4   appellation         142895 non-null  object \n 5   vintage_twitterimg  142900 non-null  object \n 6   wine_types          142900 non-null  object \n 7   wine_varieties      142900 non-null  object \n 8   vintage             142900 non-null  object \n 9   vintage_types       20155 non-null   object \n 10  vintage_varieties   18551 non-null   object \n 11  vintage_prices      142900 non-null  object \n 12  review_score        142900 non-null  object \n 13  review_topline      142900 non-null  object \n 14  review_text         142900 non-null  object \n 15  review_score_float  142900 non-null  float64\ndtypes: float64(1), int64(1), object(14)\nmemory usage: 18.5+ MB\n"
     ]
    }
   ],
   "source": [
    "# Renommage des colonnes 'Région' et 'Appellation' pour harmoniser :\n",
    "DF_rvf = DF_rvf.rename({'Région': 'region', 'Appellation': 'appellation'}, axis=1)\n",
    "DF_rvf.info()"
   ]
  },
  {
   "cell_type": "code",
   "execution_count": 9,
   "metadata": {},
   "outputs": [],
   "source": [
    "# Enregistrement :\n",
    "DF_rvf.to_csv('clean_data\\larvf.csv', index=False)"
   ]
  }
 ],
 "metadata": {
  "kernelspec": {
   "display_name": "Python 3",
   "language": "python",
   "name": "python3"
  },
  "language_info": {
   "codemirror_mode": {
    "name": "ipython",
    "version": 3
   },
   "file_extension": ".py",
   "mimetype": "text/x-python",
   "name": "python",
   "nbconvert_exporter": "python",
   "pygments_lexer": "ipython3",
   "version": "3.8.3-final"
  }
 },
 "nbformat": 4,
 "nbformat_minor": 4
}