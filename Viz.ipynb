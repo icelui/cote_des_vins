{
 "cells": [
  {
   "cell_type": "code",
   "execution_count": 1,
   "metadata": {},
   "outputs": [
    {
     "name": "stdout",
     "output_type": "stream",
     "text": [
      "<class 'pandas.core.frame.DataFrame'>\n",
      "Int64Index: 38499 entries, 0 to 62040\n",
      "Data columns (total 41 columns):\n",
      " #   Column          Non-Null Count  Dtype  \n",
      "---  ------          --------------  -----  \n",
      " 0   nom_du_vin      38499 non-null  object \n",
      " 1   millesime       38499 non-null  int64  \n",
      " 2   pays_region     38499 non-null  object \n",
      " 3   domaine         38499 non-null  object \n",
      " 4   appellation     38499 non-null  object \n",
      " 5   couleur         38499 non-null  object \n",
      " 6   cote_1992       0 non-null      float64\n",
      " 7   cote_1993       0 non-null      float64\n",
      " 8   cote_1994       0 non-null      float64\n",
      " 9   cote_1995       0 non-null      float64\n",
      " 10  cote_1996       0 non-null      float64\n",
      " 11  cote_1997       1 non-null      float64\n",
      " 12  cote_1998       40 non-null     float64\n",
      " 13  cote_1999       611 non-null    float64\n",
      " 14  cote_2000       1158 non-null   float64\n",
      " 15  cote_2001       1300 non-null   float64\n",
      " 16  cote_2002       1493 non-null   float64\n",
      " 17  cote_2003       2079 non-null   float64\n",
      " 18  cote_2004       2507 non-null   float64\n",
      " 19  cote_2005       3114 non-null   float64\n",
      " 20  cote_2006       3742 non-null   float64\n",
      " 21  cote_2007       4846 non-null   float64\n",
      " 22  cote_2008       5687 non-null   float64\n",
      " 23  cote_2009       7041 non-null   float64\n",
      " 24  cote_2010       7943 non-null   float64\n",
      " 25  cote_2011       8821 non-null   float64\n",
      " 26  cote_2012       10659 non-null  float64\n",
      " 27  cote_2013       12202 non-null  float64\n",
      " 28  cote_2014       16032 non-null  float64\n",
      " 29  cote_2015       19035 non-null  float64\n",
      " 30  cote_2016       22214 non-null  float64\n",
      " 31  cote_2017       24325 non-null  float64\n",
      " 32  cote_2018       27505 non-null  float64\n",
      " 33  cote_2019       33303 non-null  float64\n",
      " 34  cote_2020       38499 non-null  float64\n",
      " 35  note_Burghound  1746 non-null   float64\n",
      " 36  note_JMQ        4554 non-null   float64\n",
      " 37  note_JR         2112 non-null   float64\n",
      " 38  note_VinousA    1901 non-null   float64\n",
      " 39  note_WA         4726 non-null   float64\n",
      " 40  note_WS         5324 non-null   float64\n",
      "dtypes: float64(35), int64(1), object(5)\n",
      "memory usage: 12.3+ MB\n"
     ]
    }
   ],
   "source": [
    "import pandas as pd\n",
    "import numpy as np\n",
    "import re\n",
    "\n",
    "DF_ideal_only = pd.read_csv(\"clean_data\\idealwine_2020-11-21.csv\")   # Données Idealwine sans jointure avec données RVF\n",
    "DF_ideal_rvf0 = pd.read_csv(\"clean_data\\idealwine_larvf_2020-11-26.csv\")   # Données Idealwine jointes lorsque possible à celles de la RVF\n",
    "\n",
    "# Suppression des \"vieux\" vins, trop rares pour faire l'objet d'une cote fiable :\n",
    "DF_ideal_only = DF_ideal_only[DF_ideal_only.millesime>=1996]\n",
    "DF_ideal_rvf0 = DF_ideal_rvf0[DF_ideal_rvf0.millesime>=1996]\n",
    "\n",
    "DF_ideal_only.info()"
   ]
  },
  {
   "cell_type": "code",
   "execution_count": 2,
   "metadata": {},
   "outputs": [
    {
     "name": "stdout",
     "output_type": "stream",
     "text": [
      "<class 'pandas.core.frame.DataFrame'>\n",
      "Int64Index: 38499 entries, 0 to 38498\n",
      "Data columns (total 43 columns):\n",
      " #   Column                  Non-Null Count  Dtype  \n",
      "---  ------                  --------------  -----  \n",
      " 0   nom_du_vin              38499 non-null  object \n",
      " 1   millesime               38499 non-null  int64  \n",
      " 2   pays_region             38499 non-null  object \n",
      " 3   domaine                 38499 non-null  object \n",
      " 4   appellation             38499 non-null  object \n",
      " 5   couleur                 38499 non-null  object \n",
      " 6   cote_1992               0 non-null      float64\n",
      " 7   cote_1993               0 non-null      float64\n",
      " 8   cote_1994               0 non-null      float64\n",
      " 9   cote_1995               0 non-null      float64\n",
      " 10  cote_1996               0 non-null      float64\n",
      " 11  cote_1997               1 non-null      float64\n",
      " 12  cote_1998               40 non-null     float64\n",
      " 13  cote_1999               611 non-null    float64\n",
      " 14  cote_2000               1158 non-null   float64\n",
      " 15  cote_2001               1300 non-null   float64\n",
      " 16  cote_2002               1493 non-null   float64\n",
      " 17  cote_2003               2079 non-null   float64\n",
      " 18  cote_2004               2507 non-null   float64\n",
      " 19  cote_2005               3114 non-null   float64\n",
      " 20  cote_2006               3742 non-null   float64\n",
      " 21  cote_2007               4846 non-null   float64\n",
      " 22  cote_2008               5687 non-null   float64\n",
      " 23  cote_2009               7041 non-null   float64\n",
      " 24  cote_2010               7943 non-null   float64\n",
      " 25  cote_2011               8821 non-null   float64\n",
      " 26  cote_2012               10659 non-null  float64\n",
      " 27  cote_2013               12202 non-null  float64\n",
      " 28  cote_2014               16032 non-null  float64\n",
      " 29  cote_2015               19035 non-null  float64\n",
      " 30  cote_2016               22214 non-null  float64\n",
      " 31  cote_2017               24325 non-null  float64\n",
      " 32  cote_2018               27505 non-null  float64\n",
      " 33  cote_2019               33303 non-null  float64\n",
      " 34  cote_2020               38499 non-null  float64\n",
      " 35  note_Burghound          1746 non-null   float64\n",
      " 36  note_JMQ                4554 non-null   float64\n",
      " 37  note_JR                 2112 non-null   float64\n",
      " 38  note_VinousA            1901 non-null   float64\n",
      " 39  note_WA                 4726 non-null   float64\n",
      " 40  note_WS                 5324 non-null   float64\n",
      " 41  rvf_domain_stars        15392 non-null  float64\n",
      " 42  rvf_review_score_float  15392 non-null  float64\n",
      "dtypes: float64(37), int64(1), object(5)\n",
      "memory usage: 12.9+ MB\n"
     ]
    }
   ],
   "source": [
    "# Suppression des doublons dans la table jointe (lorsqu'un même vin a plusieurs notes RVF) :\n",
    "\n",
    "L_col_ideal = ['nom_du_vin', 'millesime', 'pays_region', 'domaine', 'appellation', 'couleur', 'cote_1992', 'cote_1993', 'cote_1994', 'cote_1995', 'cote_1996', 'cote_1997', 'cote_1998', 'cote_1999', 'cote_2000', 'cote_2001', 'cote_2002', 'cote_2003', 'cote_2004', 'cote_2005', 'cote_2006', 'cote_2007', 'cote_2008', 'cote_2009', 'cote_2010', 'cote_2011', 'cote_2012', 'cote_2013', 'cote_2014', 'cote_2015', 'cote_2016', 'cote_2017', 'cote_2018', 'cote_2019', 'cote_2020', 'note_Burghound', 'note_JMQ', 'note_JR', 'note_VinousA', 'note_WA', 'note_WS']\n",
    "L_col_rvf = ['rvf_domain_stars', 'rvf_review_score_float']\n",
    "DF_ideal_rvf = DF_ideal_rvf0.groupby(L_col_ideal, dropna=False, as_index=False)[L_col_rvf].median()\n",
    "DF_ideal_rvf.info()\n",
    "# Même nombre de lignes que dans DF_ideal : 38499"
   ]
  },
  {
   "cell_type": "code",
   "execution_count": 4,
   "metadata": {},
   "outputs": [
    {
     "name": "stdout",
     "output_type": "stream",
     "text": [
      "<class 'pandas.core.frame.DataFrame'>\n",
      "Int64Index: 253505 entries, 692982 to 808478\n",
      "Data columns (total 9 columns):\n",
      " #   Column       Non-Null Count   Dtype  \n",
      "---  ------       --------------   -----  \n",
      " 0   index        253505 non-null  int64  \n",
      " 1   pays_region  253505 non-null  object \n",
      " 2   appellation  253505 non-null  object \n",
      " 3   domaine      253505 non-null  object \n",
      " 4   nom_du_vin   253505 non-null  object \n",
      " 5   couleur      253505 non-null  object \n",
      " 6   millesime    253505 non-null  int64  \n",
      " 7   annee_cote   253505 non-null  int64  \n",
      " 8   cote         253505 non-null  float64\n",
      "dtypes: float64(1), int64(3), object(5)\n",
      "memory usage: 19.3+ MB\n"
     ]
    }
   ],
   "source": [
    "# Préparation des données pour visualiser l'évolution de la cote d'un vin\n",
    "L_col_id = ['pays_region', 'appellation', 'domaine', 'nom_du_vin', 'couleur', 'millesime']\n",
    "L_col_cote = [col for col in DF_ideal_only.columns if ((re.search(r'^cote_', col)!=None) and (int(re.sub(r'^cote_', \"\", col))>=2000))]\n",
    "DF_data = DF_ideal_only[DF_ideal_only.millesime>=1996][L_col_id + L_col_cote].reset_index(drop=True).reset_index()\n",
    "DF_data = DF_data.melt(id_vars=['index']+L_col_id, value_vars=L_col_cote, var_name='annee_cote', value_name='cote')\n",
    "DF_data['annee_cote'] = DF_data['annee_cote'].apply(lambda s: int(re.sub(r\"^cote_\", \"\", s)))\n",
    "DF_data = DF_data.sort_values(by=['index', 'annee_cote']).dropna()\n",
    "DF_data.info()"
   ]
  },
  {
   "cell_type": "code",
   "execution_count": 56,
   "metadata": {},
   "outputs": [
    {
     "name": "stdout",
     "output_type": "stream",
     "text": [
      "13\n"
     ]
    },
    {
     "data": {
      "text/html": [
       "<div>\n",
       "<style scoped>\n",
       "    .dataframe tbody tr th:only-of-type {\n",
       "        vertical-align: middle;\n",
       "    }\n",
       "\n",
       "    .dataframe tbody tr th {\n",
       "        vertical-align: top;\n",
       "    }\n",
       "\n",
       "    .dataframe thead th {\n",
       "        text-align: right;\n",
       "    }\n",
       "</style>\n",
       "<table border=\"1\" class=\"dataframe\">\n",
       "  <thead>\n",
       "    <tr style=\"text-align: right;\">\n",
       "      <th></th>\n",
       "      <th>index</th>\n",
       "      <th>pays_region</th>\n",
       "      <th>appellation</th>\n",
       "      <th>domaine</th>\n",
       "      <th>nom_du_vin</th>\n",
       "      <th>couleur</th>\n",
       "      <th>millesime</th>\n",
       "      <th>annee_cote</th>\n",
       "      <th>cote</th>\n",
       "    </tr>\n",
       "  </thead>\n",
       "  <tbody>\n",
       "    <tr>\n",
       "      <th>320207</th>\n",
       "      <td>12215</td>\n",
       "      <td>Vallée de la Loire</td>\n",
       "      <td>Sancerre</td>\n",
       "      <td>François Cotat</td>\n",
       "      <td>Sancerre Les Culs de Beaujeu François Cotat</td>\n",
       "      <td>Blanc</td>\n",
       "      <td>2006</td>\n",
       "      <td>2008</td>\n",
       "      <td>24.50</td>\n",
       "    </tr>\n",
       "    <tr>\n",
       "      <th>358706</th>\n",
       "      <td>12215</td>\n",
       "      <td>Vallée de la Loire</td>\n",
       "      <td>Sancerre</td>\n",
       "      <td>François Cotat</td>\n",
       "      <td>Sancerre Les Culs de Beaujeu François Cotat</td>\n",
       "      <td>Blanc</td>\n",
       "      <td>2006</td>\n",
       "      <td>2009</td>\n",
       "      <td>24.50</td>\n",
       "    </tr>\n",
       "    <tr>\n",
       "      <th>397205</th>\n",
       "      <td>12215</td>\n",
       "      <td>Vallée de la Loire</td>\n",
       "      <td>Sancerre</td>\n",
       "      <td>François Cotat</td>\n",
       "      <td>Sancerre Les Culs de Beaujeu François Cotat</td>\n",
       "      <td>Blanc</td>\n",
       "      <td>2006</td>\n",
       "      <td>2010</td>\n",
       "      <td>29.00</td>\n",
       "    </tr>\n",
       "    <tr>\n",
       "      <th>435704</th>\n",
       "      <td>12215</td>\n",
       "      <td>Vallée de la Loire</td>\n",
       "      <td>Sancerre</td>\n",
       "      <td>François Cotat</td>\n",
       "      <td>Sancerre Les Culs de Beaujeu François Cotat</td>\n",
       "      <td>Blanc</td>\n",
       "      <td>2006</td>\n",
       "      <td>2011</td>\n",
       "      <td>32.00</td>\n",
       "    </tr>\n",
       "    <tr>\n",
       "      <th>474203</th>\n",
       "      <td>12215</td>\n",
       "      <td>Vallée de la Loire</td>\n",
       "      <td>Sancerre</td>\n",
       "      <td>François Cotat</td>\n",
       "      <td>Sancerre Les Culs de Beaujeu François Cotat</td>\n",
       "      <td>Blanc</td>\n",
       "      <td>2006</td>\n",
       "      <td>2012</td>\n",
       "      <td>31.50</td>\n",
       "    </tr>\n",
       "    <tr>\n",
       "      <th>512702</th>\n",
       "      <td>12215</td>\n",
       "      <td>Vallée de la Loire</td>\n",
       "      <td>Sancerre</td>\n",
       "      <td>François Cotat</td>\n",
       "      <td>Sancerre Les Culs de Beaujeu François Cotat</td>\n",
       "      <td>Blanc</td>\n",
       "      <td>2006</td>\n",
       "      <td>2013</td>\n",
       "      <td>33.50</td>\n",
       "    </tr>\n",
       "    <tr>\n",
       "      <th>551201</th>\n",
       "      <td>12215</td>\n",
       "      <td>Vallée de la Loire</td>\n",
       "      <td>Sancerre</td>\n",
       "      <td>François Cotat</td>\n",
       "      <td>Sancerre Les Culs de Beaujeu François Cotat</td>\n",
       "      <td>Blanc</td>\n",
       "      <td>2006</td>\n",
       "      <td>2014</td>\n",
       "      <td>30.00</td>\n",
       "    </tr>\n",
       "    <tr>\n",
       "      <th>589700</th>\n",
       "      <td>12215</td>\n",
       "      <td>Vallée de la Loire</td>\n",
       "      <td>Sancerre</td>\n",
       "      <td>François Cotat</td>\n",
       "      <td>Sancerre Les Culs de Beaujeu François Cotat</td>\n",
       "      <td>Blanc</td>\n",
       "      <td>2006</td>\n",
       "      <td>2015</td>\n",
       "      <td>34.00</td>\n",
       "    </tr>\n",
       "    <tr>\n",
       "      <th>628199</th>\n",
       "      <td>12215</td>\n",
       "      <td>Vallée de la Loire</td>\n",
       "      <td>Sancerre</td>\n",
       "      <td>François Cotat</td>\n",
       "      <td>Sancerre Les Culs de Beaujeu François Cotat</td>\n",
       "      <td>Blanc</td>\n",
       "      <td>2006</td>\n",
       "      <td>2016</td>\n",
       "      <td>37.41</td>\n",
       "    </tr>\n",
       "    <tr>\n",
       "      <th>666698</th>\n",
       "      <td>12215</td>\n",
       "      <td>Vallée de la Loire</td>\n",
       "      <td>Sancerre</td>\n",
       "      <td>François Cotat</td>\n",
       "      <td>Sancerre Les Culs de Beaujeu François Cotat</td>\n",
       "      <td>Blanc</td>\n",
       "      <td>2006</td>\n",
       "      <td>2017</td>\n",
       "      <td>41.57</td>\n",
       "    </tr>\n",
       "    <tr>\n",
       "      <th>705197</th>\n",
       "      <td>12215</td>\n",
       "      <td>Vallée de la Loire</td>\n",
       "      <td>Sancerre</td>\n",
       "      <td>François Cotat</td>\n",
       "      <td>Sancerre Les Culs de Beaujeu François Cotat</td>\n",
       "      <td>Blanc</td>\n",
       "      <td>2006</td>\n",
       "      <td>2018</td>\n",
       "      <td>42.26</td>\n",
       "    </tr>\n",
       "    <tr>\n",
       "      <th>743696</th>\n",
       "      <td>12215</td>\n",
       "      <td>Vallée de la Loire</td>\n",
       "      <td>Sancerre</td>\n",
       "      <td>François Cotat</td>\n",
       "      <td>Sancerre Les Culs de Beaujeu François Cotat</td>\n",
       "      <td>Blanc</td>\n",
       "      <td>2006</td>\n",
       "      <td>2019</td>\n",
       "      <td>42.54</td>\n",
       "    </tr>\n",
       "    <tr>\n",
       "      <th>782195</th>\n",
       "      <td>12215</td>\n",
       "      <td>Vallée de la Loire</td>\n",
       "      <td>Sancerre</td>\n",
       "      <td>François Cotat</td>\n",
       "      <td>Sancerre Les Culs de Beaujeu François Cotat</td>\n",
       "      <td>Blanc</td>\n",
       "      <td>2006</td>\n",
       "      <td>2020</td>\n",
       "      <td>44.63</td>\n",
       "    </tr>\n",
       "  </tbody>\n",
       "</table>\n",
       "</div>"
      ],
      "text/plain": [
       "        index         pays_region appellation         domaine  \\\n",
       "320207  12215  Vallée de la Loire    Sancerre  François Cotat   \n",
       "358706  12215  Vallée de la Loire    Sancerre  François Cotat   \n",
       "397205  12215  Vallée de la Loire    Sancerre  François Cotat   \n",
       "435704  12215  Vallée de la Loire    Sancerre  François Cotat   \n",
       "474203  12215  Vallée de la Loire    Sancerre  François Cotat   \n",
       "512702  12215  Vallée de la Loire    Sancerre  François Cotat   \n",
       "551201  12215  Vallée de la Loire    Sancerre  François Cotat   \n",
       "589700  12215  Vallée de la Loire    Sancerre  François Cotat   \n",
       "628199  12215  Vallée de la Loire    Sancerre  François Cotat   \n",
       "666698  12215  Vallée de la Loire    Sancerre  François Cotat   \n",
       "705197  12215  Vallée de la Loire    Sancerre  François Cotat   \n",
       "743696  12215  Vallée de la Loire    Sancerre  François Cotat   \n",
       "782195  12215  Vallée de la Loire    Sancerre  François Cotat   \n",
       "\n",
       "                                         nom_du_vin couleur  millesime  \\\n",
       "320207  Sancerre Les Culs de Beaujeu François Cotat   Blanc       2006   \n",
       "358706  Sancerre Les Culs de Beaujeu François Cotat   Blanc       2006   \n",
       "397205  Sancerre Les Culs de Beaujeu François Cotat   Blanc       2006   \n",
       "435704  Sancerre Les Culs de Beaujeu François Cotat   Blanc       2006   \n",
       "474203  Sancerre Les Culs de Beaujeu François Cotat   Blanc       2006   \n",
       "512702  Sancerre Les Culs de Beaujeu François Cotat   Blanc       2006   \n",
       "551201  Sancerre Les Culs de Beaujeu François Cotat   Blanc       2006   \n",
       "589700  Sancerre Les Culs de Beaujeu François Cotat   Blanc       2006   \n",
       "628199  Sancerre Les Culs de Beaujeu François Cotat   Blanc       2006   \n",
       "666698  Sancerre Les Culs de Beaujeu François Cotat   Blanc       2006   \n",
       "705197  Sancerre Les Culs de Beaujeu François Cotat   Blanc       2006   \n",
       "743696  Sancerre Les Culs de Beaujeu François Cotat   Blanc       2006   \n",
       "782195  Sancerre Les Culs de Beaujeu François Cotat   Blanc       2006   \n",
       "\n",
       "        annee_cote   cote  \n",
       "320207        2008  24.50  \n",
       "358706        2009  24.50  \n",
       "397205        2010  29.00  \n",
       "435704        2011  32.00  \n",
       "474203        2012  31.50  \n",
       "512702        2013  33.50  \n",
       "551201        2014  30.00  \n",
       "589700        2015  34.00  \n",
       "628199        2016  37.41  \n",
       "666698        2017  41.57  \n",
       "705197        2018  42.26  \n",
       "743696        2019  42.54  \n",
       "782195        2020  44.63  "
      ]
     },
     "metadata": {},
     "output_type": "display_data"
    },
    {
     "data": {
      "application/vnd.plotly.v1+json": {
       "config": {
        "plotlyServerURL": "https://plot.ly"
       },
       "data": [
        {
         "hovertemplate": "annee_cote=%{x}<br>cote=%{y}<extra></extra>",
         "legendgroup": "",
         "line": {
          "color": "#d41010"
         },
         "marker": {
          "size": 10
         },
         "mode": "lines+markers",
         "name": "",
         "orientation": "v",
         "showlegend": false,
         "type": "scatter",
         "x": [
          2008,
          2009,
          2010,
          2011,
          2012,
          2013,
          2014,
          2015,
          2016,
          2017,
          2018,
          2019,
          2020
         ],
         "xaxis": "x",
         "y": [
          24.5,
          24.5,
          29,
          32,
          31.5,
          33.5,
          30,
          34,
          37.41,
          41.57,
          42.26,
          42.54,
          44.63
         ],
         "yaxis": "y"
        }
       ],
       "layout": {
        "legend": {
         "tracegroupgap": 0
        },
        "showlegend": false,
        "template": {
         "data": {
          "bar": [
           {
            "error_x": {
             "color": "#2a3f5f"
            },
            "error_y": {
             "color": "#2a3f5f"
            },
            "marker": {
             "line": {
              "color": "#E5ECF6",
              "width": 0.5
             }
            },
            "type": "bar"
           }
          ],
          "barpolar": [
           {
            "marker": {
             "line": {
              "color": "#E5ECF6",
              "width": 0.5
             }
            },
            "type": "barpolar"
           }
          ],
          "carpet": [
           {
            "aaxis": {
             "endlinecolor": "#2a3f5f",
             "gridcolor": "white",
             "linecolor": "white",
             "minorgridcolor": "white",
             "startlinecolor": "#2a3f5f"
            },
            "baxis": {
             "endlinecolor": "#2a3f5f",
             "gridcolor": "white",
             "linecolor": "white",
             "minorgridcolor": "white",
             "startlinecolor": "#2a3f5f"
            },
            "type": "carpet"
           }
          ],
          "choropleth": [
           {
            "colorbar": {
             "outlinewidth": 0,
             "ticks": ""
            },
            "type": "choropleth"
           }
          ],
          "contour": [
           {
            "colorbar": {
             "outlinewidth": 0,
             "ticks": ""
            },
            "colorscale": [
             [
              0,
              "#0d0887"
             ],
             [
              0.1111111111111111,
              "#46039f"
             ],
             [
              0.2222222222222222,
              "#7201a8"
             ],
             [
              0.3333333333333333,
              "#9c179e"
             ],
             [
              0.4444444444444444,
              "#bd3786"
             ],
             [
              0.5555555555555556,
              "#d8576b"
             ],
             [
              0.6666666666666666,
              "#ed7953"
             ],
             [
              0.7777777777777778,
              "#fb9f3a"
             ],
             [
              0.8888888888888888,
              "#fdca26"
             ],
             [
              1,
              "#f0f921"
             ]
            ],
            "type": "contour"
           }
          ],
          "contourcarpet": [
           {
            "colorbar": {
             "outlinewidth": 0,
             "ticks": ""
            },
            "type": "contourcarpet"
           }
          ],
          "heatmap": [
           {
            "colorbar": {
             "outlinewidth": 0,
             "ticks": ""
            },
            "colorscale": [
             [
              0,
              "#0d0887"
             ],
             [
              0.1111111111111111,
              "#46039f"
             ],
             [
              0.2222222222222222,
              "#7201a8"
             ],
             [
              0.3333333333333333,
              "#9c179e"
             ],
             [
              0.4444444444444444,
              "#bd3786"
             ],
             [
              0.5555555555555556,
              "#d8576b"
             ],
             [
              0.6666666666666666,
              "#ed7953"
             ],
             [
              0.7777777777777778,
              "#fb9f3a"
             ],
             [
              0.8888888888888888,
              "#fdca26"
             ],
             [
              1,
              "#f0f921"
             ]
            ],
            "type": "heatmap"
           }
          ],
          "heatmapgl": [
           {
            "colorbar": {
             "outlinewidth": 0,
             "ticks": ""
            },
            "colorscale": [
             [
              0,
              "#0d0887"
             ],
             [
              0.1111111111111111,
              "#46039f"
             ],
             [
              0.2222222222222222,
              "#7201a8"
             ],
             [
              0.3333333333333333,
              "#9c179e"
             ],
             [
              0.4444444444444444,
              "#bd3786"
             ],
             [
              0.5555555555555556,
              "#d8576b"
             ],
             [
              0.6666666666666666,
              "#ed7953"
             ],
             [
              0.7777777777777778,
              "#fb9f3a"
             ],
             [
              0.8888888888888888,
              "#fdca26"
             ],
             [
              1,
              "#f0f921"
             ]
            ],
            "type": "heatmapgl"
           }
          ],
          "histogram": [
           {
            "marker": {
             "colorbar": {
              "outlinewidth": 0,
              "ticks": ""
             }
            },
            "type": "histogram"
           }
          ],
          "histogram2d": [
           {
            "colorbar": {
             "outlinewidth": 0,
             "ticks": ""
            },
            "colorscale": [
             [
              0,
              "#0d0887"
             ],
             [
              0.1111111111111111,
              "#46039f"
             ],
             [
              0.2222222222222222,
              "#7201a8"
             ],
             [
              0.3333333333333333,
              "#9c179e"
             ],
             [
              0.4444444444444444,
              "#bd3786"
             ],
             [
              0.5555555555555556,
              "#d8576b"
             ],
             [
              0.6666666666666666,
              "#ed7953"
             ],
             [
              0.7777777777777778,
              "#fb9f3a"
             ],
             [
              0.8888888888888888,
              "#fdca26"
             ],
             [
              1,
              "#f0f921"
             ]
            ],
            "type": "histogram2d"
           }
          ],
          "histogram2dcontour": [
           {
            "colorbar": {
             "outlinewidth": 0,
             "ticks": ""
            },
            "colorscale": [
             [
              0,
              "#0d0887"
             ],
             [
              0.1111111111111111,
              "#46039f"
             ],
             [
              0.2222222222222222,
              "#7201a8"
             ],
             [
              0.3333333333333333,
              "#9c179e"
             ],
             [
              0.4444444444444444,
              "#bd3786"
             ],
             [
              0.5555555555555556,
              "#d8576b"
             ],
             [
              0.6666666666666666,
              "#ed7953"
             ],
             [
              0.7777777777777778,
              "#fb9f3a"
             ],
             [
              0.8888888888888888,
              "#fdca26"
             ],
             [
              1,
              "#f0f921"
             ]
            ],
            "type": "histogram2dcontour"
           }
          ],
          "mesh3d": [
           {
            "colorbar": {
             "outlinewidth": 0,
             "ticks": ""
            },
            "type": "mesh3d"
           }
          ],
          "parcoords": [
           {
            "line": {
             "colorbar": {
              "outlinewidth": 0,
              "ticks": ""
             }
            },
            "type": "parcoords"
           }
          ],
          "pie": [
           {
            "automargin": true,
            "type": "pie"
           }
          ],
          "scatter": [
           {
            "marker": {
             "colorbar": {
              "outlinewidth": 0,
              "ticks": ""
             }
            },
            "type": "scatter"
           }
          ],
          "scatter3d": [
           {
            "line": {
             "colorbar": {
              "outlinewidth": 0,
              "ticks": ""
             }
            },
            "marker": {
             "colorbar": {
              "outlinewidth": 0,
              "ticks": ""
             }
            },
            "type": "scatter3d"
           }
          ],
          "scattercarpet": [
           {
            "marker": {
             "colorbar": {
              "outlinewidth": 0,
              "ticks": ""
             }
            },
            "type": "scattercarpet"
           }
          ],
          "scattergeo": [
           {
            "marker": {
             "colorbar": {
              "outlinewidth": 0,
              "ticks": ""
             }
            },
            "type": "scattergeo"
           }
          ],
          "scattergl": [
           {
            "marker": {
             "colorbar": {
              "outlinewidth": 0,
              "ticks": ""
             }
            },
            "type": "scattergl"
           }
          ],
          "scattermapbox": [
           {
            "marker": {
             "colorbar": {
              "outlinewidth": 0,
              "ticks": ""
             }
            },
            "type": "scattermapbox"
           }
          ],
          "scatterpolar": [
           {
            "marker": {
             "colorbar": {
              "outlinewidth": 0,
              "ticks": ""
             }
            },
            "type": "scatterpolar"
           }
          ],
          "scatterpolargl": [
           {
            "marker": {
             "colorbar": {
              "outlinewidth": 0,
              "ticks": ""
             }
            },
            "type": "scatterpolargl"
           }
          ],
          "scatterternary": [
           {
            "marker": {
             "colorbar": {
              "outlinewidth": 0,
              "ticks": ""
             }
            },
            "type": "scatterternary"
           }
          ],
          "surface": [
           {
            "colorbar": {
             "outlinewidth": 0,
             "ticks": ""
            },
            "colorscale": [
             [
              0,
              "#0d0887"
             ],
             [
              0.1111111111111111,
              "#46039f"
             ],
             [
              0.2222222222222222,
              "#7201a8"
             ],
             [
              0.3333333333333333,
              "#9c179e"
             ],
             [
              0.4444444444444444,
              "#bd3786"
             ],
             [
              0.5555555555555556,
              "#d8576b"
             ],
             [
              0.6666666666666666,
              "#ed7953"
             ],
             [
              0.7777777777777778,
              "#fb9f3a"
             ],
             [
              0.8888888888888888,
              "#fdca26"
             ],
             [
              1,
              "#f0f921"
             ]
            ],
            "type": "surface"
           }
          ],
          "table": [
           {
            "cells": {
             "fill": {
              "color": "#EBF0F8"
             },
             "line": {
              "color": "white"
             }
            },
            "header": {
             "fill": {
              "color": "#C8D4E3"
             },
             "line": {
              "color": "white"
             }
            },
            "type": "table"
           }
          ]
         },
         "layout": {
          "annotationdefaults": {
           "arrowcolor": "#2a3f5f",
           "arrowhead": 0,
           "arrowwidth": 1
          },
          "coloraxis": {
           "colorbar": {
            "outlinewidth": 0,
            "ticks": ""
           }
          },
          "colorscale": {
           "diverging": [
            [
             0,
             "#8e0152"
            ],
            [
             0.1,
             "#c51b7d"
            ],
            [
             0.2,
             "#de77ae"
            ],
            [
             0.3,
             "#f1b6da"
            ],
            [
             0.4,
             "#fde0ef"
            ],
            [
             0.5,
             "#f7f7f7"
            ],
            [
             0.6,
             "#e6f5d0"
            ],
            [
             0.7,
             "#b8e186"
            ],
            [
             0.8,
             "#7fbc41"
            ],
            [
             0.9,
             "#4d9221"
            ],
            [
             1,
             "#276419"
            ]
           ],
           "sequential": [
            [
             0,
             "#0d0887"
            ],
            [
             0.1111111111111111,
             "#46039f"
            ],
            [
             0.2222222222222222,
             "#7201a8"
            ],
            [
             0.3333333333333333,
             "#9c179e"
            ],
            [
             0.4444444444444444,
             "#bd3786"
            ],
            [
             0.5555555555555556,
             "#d8576b"
            ],
            [
             0.6666666666666666,
             "#ed7953"
            ],
            [
             0.7777777777777778,
             "#fb9f3a"
            ],
            [
             0.8888888888888888,
             "#fdca26"
            ],
            [
             1,
             "#f0f921"
            ]
           ],
           "sequentialminus": [
            [
             0,
             "#0d0887"
            ],
            [
             0.1111111111111111,
             "#46039f"
            ],
            [
             0.2222222222222222,
             "#7201a8"
            ],
            [
             0.3333333333333333,
             "#9c179e"
            ],
            [
             0.4444444444444444,
             "#bd3786"
            ],
            [
             0.5555555555555556,
             "#d8576b"
            ],
            [
             0.6666666666666666,
             "#ed7953"
            ],
            [
             0.7777777777777778,
             "#fb9f3a"
            ],
            [
             0.8888888888888888,
             "#fdca26"
            ],
            [
             1,
             "#f0f921"
            ]
           ]
          },
          "colorway": [
           "#636efa",
           "#EF553B",
           "#00cc96",
           "#ab63fa",
           "#FFA15A",
           "#19d3f3",
           "#FF6692",
           "#B6E880",
           "#FF97FF",
           "#FECB52"
          ],
          "font": {
           "color": "#2a3f5f"
          },
          "geo": {
           "bgcolor": "white",
           "lakecolor": "white",
           "landcolor": "#E5ECF6",
           "showlakes": true,
           "showland": true,
           "subunitcolor": "white"
          },
          "hoverlabel": {
           "align": "left"
          },
          "hovermode": "closest",
          "mapbox": {
           "style": "light"
          },
          "paper_bgcolor": "white",
          "plot_bgcolor": "#E5ECF6",
          "polar": {
           "angularaxis": {
            "gridcolor": "white",
            "linecolor": "white",
            "ticks": ""
           },
           "bgcolor": "#E5ECF6",
           "radialaxis": {
            "gridcolor": "white",
            "linecolor": "white",
            "ticks": ""
           }
          },
          "scene": {
           "xaxis": {
            "backgroundcolor": "#E5ECF6",
            "gridcolor": "white",
            "gridwidth": 2,
            "linecolor": "white",
            "showbackground": true,
            "ticks": "",
            "zerolinecolor": "white"
           },
           "yaxis": {
            "backgroundcolor": "#E5ECF6",
            "gridcolor": "white",
            "gridwidth": 2,
            "linecolor": "white",
            "showbackground": true,
            "ticks": "",
            "zerolinecolor": "white"
           },
           "zaxis": {
            "backgroundcolor": "#E5ECF6",
            "gridcolor": "white",
            "gridwidth": 2,
            "linecolor": "white",
            "showbackground": true,
            "ticks": "",
            "zerolinecolor": "white"
           }
          },
          "shapedefaults": {
           "line": {
            "color": "#2a3f5f"
           }
          },
          "ternary": {
           "aaxis": {
            "gridcolor": "white",
            "linecolor": "white",
            "ticks": ""
           },
           "baxis": {
            "gridcolor": "white",
            "linecolor": "white",
            "ticks": ""
           },
           "bgcolor": "#E5ECF6",
           "caxis": {
            "gridcolor": "white",
            "linecolor": "white",
            "ticks": ""
           }
          },
          "title": {
           "x": 0.05
          },
          "xaxis": {
           "automargin": true,
           "gridcolor": "white",
           "linecolor": "white",
           "ticks": "",
           "title": {
            "standoff": 15
           },
           "zerolinecolor": "white",
           "zerolinewidth": 2
          },
          "yaxis": {
           "automargin": true,
           "gridcolor": "white",
           "linecolor": "white",
           "ticks": "",
           "title": {
            "standoff": 15
           },
           "zerolinecolor": "white",
           "zerolinewidth": 2
          }
         }
        },
        "title": {
         "text": "Sancerre Les Culs de Beaujeu François Cotat 2006"
        },
        "xaxis": {
         "anchor": "y",
         "domain": [
          0,
          1
         ],
         "title": {
          "text": "Année de cotation"
         }
        },
        "yaxis": {
         "anchor": "x",
         "domain": [
          0,
          1
         ],
         "title": {
          "text": "Valeur d'une bouteille de 75 cL en € (Idealwine)"
         }
        }
       }
      },
      "text/html": [
       "<div>                            <div id=\"78373cdf-b014-40dc-9abe-2171cb007ace\" class=\"plotly-graph-div\" style=\"height:525px; width:100%;\"></div>            <script type=\"text/javascript\">                require([\"plotly\"], function(Plotly) {                    window.PLOTLYENV=window.PLOTLYENV || {};                                    if (document.getElementById(\"78373cdf-b014-40dc-9abe-2171cb007ace\")) {                    Plotly.newPlot(                        \"78373cdf-b014-40dc-9abe-2171cb007ace\",                        [{\"hovertemplate\": \"annee_cote=%{x}<br>cote=%{y}<extra></extra>\", \"legendgroup\": \"\", \"line\": {\"color\": \"#d41010\"}, \"marker\": {\"size\": 10}, \"mode\": \"lines+markers\", \"name\": \"\", \"orientation\": \"v\", \"showlegend\": false, \"type\": \"scatter\", \"x\": [2008, 2009, 2010, 2011, 2012, 2013, 2014, 2015, 2016, 2017, 2018, 2019, 2020], \"xaxis\": \"x\", \"y\": [24.5, 24.5, 29.0, 32.0, 31.5, 33.5, 30.0, 34.0, 37.41, 41.57, 42.26, 42.54, 44.63], \"yaxis\": \"y\"}],                        {\"legend\": {\"tracegroupgap\": 0}, \"showlegend\": false, \"template\": {\"data\": {\"bar\": [{\"error_x\": {\"color\": \"#2a3f5f\"}, \"error_y\": {\"color\": \"#2a3f5f\"}, \"marker\": {\"line\": {\"color\": \"#E5ECF6\", \"width\": 0.5}}, \"type\": \"bar\"}], \"barpolar\": [{\"marker\": {\"line\": {\"color\": \"#E5ECF6\", \"width\": 0.5}}, \"type\": \"barpolar\"}], \"carpet\": [{\"aaxis\": {\"endlinecolor\": \"#2a3f5f\", \"gridcolor\": \"white\", \"linecolor\": \"white\", \"minorgridcolor\": \"white\", \"startlinecolor\": \"#2a3f5f\"}, \"baxis\": {\"endlinecolor\": \"#2a3f5f\", \"gridcolor\": \"white\", \"linecolor\": \"white\", \"minorgridcolor\": \"white\", \"startlinecolor\": \"#2a3f5f\"}, \"type\": \"carpet\"}], \"choropleth\": [{\"colorbar\": {\"outlinewidth\": 0, \"ticks\": \"\"}, \"type\": \"choropleth\"}], \"contour\": [{\"colorbar\": {\"outlinewidth\": 0, \"ticks\": \"\"}, \"colorscale\": [[0.0, \"#0d0887\"], [0.1111111111111111, \"#46039f\"], [0.2222222222222222, \"#7201a8\"], [0.3333333333333333, \"#9c179e\"], [0.4444444444444444, \"#bd3786\"], [0.5555555555555556, \"#d8576b\"], [0.6666666666666666, \"#ed7953\"], [0.7777777777777778, \"#fb9f3a\"], [0.8888888888888888, \"#fdca26\"], [1.0, \"#f0f921\"]], \"type\": \"contour\"}], \"contourcarpet\": [{\"colorbar\": {\"outlinewidth\": 0, \"ticks\": \"\"}, \"type\": \"contourcarpet\"}], \"heatmap\": [{\"colorbar\": {\"outlinewidth\": 0, \"ticks\": \"\"}, \"colorscale\": [[0.0, \"#0d0887\"], [0.1111111111111111, \"#46039f\"], [0.2222222222222222, \"#7201a8\"], [0.3333333333333333, \"#9c179e\"], [0.4444444444444444, \"#bd3786\"], [0.5555555555555556, \"#d8576b\"], [0.6666666666666666, \"#ed7953\"], [0.7777777777777778, \"#fb9f3a\"], [0.8888888888888888, \"#fdca26\"], [1.0, \"#f0f921\"]], \"type\": \"heatmap\"}], \"heatmapgl\": [{\"colorbar\": {\"outlinewidth\": 0, \"ticks\": \"\"}, \"colorscale\": [[0.0, \"#0d0887\"], [0.1111111111111111, \"#46039f\"], [0.2222222222222222, \"#7201a8\"], [0.3333333333333333, \"#9c179e\"], [0.4444444444444444, \"#bd3786\"], [0.5555555555555556, \"#d8576b\"], [0.6666666666666666, \"#ed7953\"], [0.7777777777777778, \"#fb9f3a\"], [0.8888888888888888, \"#fdca26\"], [1.0, \"#f0f921\"]], \"type\": \"heatmapgl\"}], \"histogram\": [{\"marker\": {\"colorbar\": {\"outlinewidth\": 0, \"ticks\": \"\"}}, \"type\": \"histogram\"}], \"histogram2d\": [{\"colorbar\": {\"outlinewidth\": 0, \"ticks\": \"\"}, \"colorscale\": [[0.0, \"#0d0887\"], [0.1111111111111111, \"#46039f\"], [0.2222222222222222, \"#7201a8\"], [0.3333333333333333, \"#9c179e\"], [0.4444444444444444, \"#bd3786\"], [0.5555555555555556, \"#d8576b\"], [0.6666666666666666, \"#ed7953\"], [0.7777777777777778, \"#fb9f3a\"], [0.8888888888888888, \"#fdca26\"], [1.0, \"#f0f921\"]], \"type\": \"histogram2d\"}], \"histogram2dcontour\": [{\"colorbar\": {\"outlinewidth\": 0, \"ticks\": \"\"}, \"colorscale\": [[0.0, \"#0d0887\"], [0.1111111111111111, \"#46039f\"], [0.2222222222222222, \"#7201a8\"], [0.3333333333333333, \"#9c179e\"], [0.4444444444444444, \"#bd3786\"], [0.5555555555555556, \"#d8576b\"], [0.6666666666666666, \"#ed7953\"], [0.7777777777777778, \"#fb9f3a\"], [0.8888888888888888, \"#fdca26\"], [1.0, \"#f0f921\"]], \"type\": \"histogram2dcontour\"}], \"mesh3d\": [{\"colorbar\": {\"outlinewidth\": 0, \"ticks\": \"\"}, \"type\": \"mesh3d\"}], \"parcoords\": [{\"line\": {\"colorbar\": {\"outlinewidth\": 0, \"ticks\": \"\"}}, \"type\": \"parcoords\"}], \"pie\": [{\"automargin\": true, \"type\": \"pie\"}], \"scatter\": [{\"marker\": {\"colorbar\": {\"outlinewidth\": 0, \"ticks\": \"\"}}, \"type\": \"scatter\"}], \"scatter3d\": [{\"line\": {\"colorbar\": {\"outlinewidth\": 0, \"ticks\": \"\"}}, \"marker\": {\"colorbar\": {\"outlinewidth\": 0, \"ticks\": \"\"}}, \"type\": \"scatter3d\"}], \"scattercarpet\": [{\"marker\": {\"colorbar\": {\"outlinewidth\": 0, \"ticks\": \"\"}}, \"type\": \"scattercarpet\"}], \"scattergeo\": [{\"marker\": {\"colorbar\": {\"outlinewidth\": 0, \"ticks\": \"\"}}, \"type\": \"scattergeo\"}], \"scattergl\": [{\"marker\": {\"colorbar\": {\"outlinewidth\": 0, \"ticks\": \"\"}}, \"type\": \"scattergl\"}], \"scattermapbox\": [{\"marker\": {\"colorbar\": {\"outlinewidth\": 0, \"ticks\": \"\"}}, \"type\": \"scattermapbox\"}], \"scatterpolar\": [{\"marker\": {\"colorbar\": {\"outlinewidth\": 0, \"ticks\": \"\"}}, \"type\": \"scatterpolar\"}], \"scatterpolargl\": [{\"marker\": {\"colorbar\": {\"outlinewidth\": 0, \"ticks\": \"\"}}, \"type\": \"scatterpolargl\"}], \"scatterternary\": [{\"marker\": {\"colorbar\": {\"outlinewidth\": 0, \"ticks\": \"\"}}, \"type\": \"scatterternary\"}], \"surface\": [{\"colorbar\": {\"outlinewidth\": 0, \"ticks\": \"\"}, \"colorscale\": [[0.0, \"#0d0887\"], [0.1111111111111111, \"#46039f\"], [0.2222222222222222, \"#7201a8\"], [0.3333333333333333, \"#9c179e\"], [0.4444444444444444, \"#bd3786\"], [0.5555555555555556, \"#d8576b\"], [0.6666666666666666, \"#ed7953\"], [0.7777777777777778, \"#fb9f3a\"], [0.8888888888888888, \"#fdca26\"], [1.0, \"#f0f921\"]], \"type\": \"surface\"}], \"table\": [{\"cells\": {\"fill\": {\"color\": \"#EBF0F8\"}, \"line\": {\"color\": \"white\"}}, \"header\": {\"fill\": {\"color\": \"#C8D4E3\"}, \"line\": {\"color\": \"white\"}}, \"type\": \"table\"}]}, \"layout\": {\"annotationdefaults\": {\"arrowcolor\": \"#2a3f5f\", \"arrowhead\": 0, \"arrowwidth\": 1}, \"coloraxis\": {\"colorbar\": {\"outlinewidth\": 0, \"ticks\": \"\"}}, \"colorscale\": {\"diverging\": [[0, \"#8e0152\"], [0.1, \"#c51b7d\"], [0.2, \"#de77ae\"], [0.3, \"#f1b6da\"], [0.4, \"#fde0ef\"], [0.5, \"#f7f7f7\"], [0.6, \"#e6f5d0\"], [0.7, \"#b8e186\"], [0.8, \"#7fbc41\"], [0.9, \"#4d9221\"], [1, \"#276419\"]], \"sequential\": [[0.0, \"#0d0887\"], [0.1111111111111111, \"#46039f\"], [0.2222222222222222, \"#7201a8\"], [0.3333333333333333, \"#9c179e\"], [0.4444444444444444, \"#bd3786\"], [0.5555555555555556, \"#d8576b\"], [0.6666666666666666, \"#ed7953\"], [0.7777777777777778, \"#fb9f3a\"], [0.8888888888888888, \"#fdca26\"], [1.0, \"#f0f921\"]], \"sequentialminus\": [[0.0, \"#0d0887\"], [0.1111111111111111, \"#46039f\"], [0.2222222222222222, \"#7201a8\"], [0.3333333333333333, \"#9c179e\"], [0.4444444444444444, \"#bd3786\"], [0.5555555555555556, \"#d8576b\"], [0.6666666666666666, \"#ed7953\"], [0.7777777777777778, \"#fb9f3a\"], [0.8888888888888888, \"#fdca26\"], [1.0, \"#f0f921\"]]}, \"colorway\": [\"#636efa\", \"#EF553B\", \"#00cc96\", \"#ab63fa\", \"#FFA15A\", \"#19d3f3\", \"#FF6692\", \"#B6E880\", \"#FF97FF\", \"#FECB52\"], \"font\": {\"color\": \"#2a3f5f\"}, \"geo\": {\"bgcolor\": \"white\", \"lakecolor\": \"white\", \"landcolor\": \"#E5ECF6\", \"showlakes\": true, \"showland\": true, \"subunitcolor\": \"white\"}, \"hoverlabel\": {\"align\": \"left\"}, \"hovermode\": \"closest\", \"mapbox\": {\"style\": \"light\"}, \"paper_bgcolor\": \"white\", \"plot_bgcolor\": \"#E5ECF6\", \"polar\": {\"angularaxis\": {\"gridcolor\": \"white\", \"linecolor\": \"white\", \"ticks\": \"\"}, \"bgcolor\": \"#E5ECF6\", \"radialaxis\": {\"gridcolor\": \"white\", \"linecolor\": \"white\", \"ticks\": \"\"}}, \"scene\": {\"xaxis\": {\"backgroundcolor\": \"#E5ECF6\", \"gridcolor\": \"white\", \"gridwidth\": 2, \"linecolor\": \"white\", \"showbackground\": true, \"ticks\": \"\", \"zerolinecolor\": \"white\"}, \"yaxis\": {\"backgroundcolor\": \"#E5ECF6\", \"gridcolor\": \"white\", \"gridwidth\": 2, \"linecolor\": \"white\", \"showbackground\": true, \"ticks\": \"\", \"zerolinecolor\": \"white\"}, \"zaxis\": {\"backgroundcolor\": \"#E5ECF6\", \"gridcolor\": \"white\", \"gridwidth\": 2, \"linecolor\": \"white\", \"showbackground\": true, \"ticks\": \"\", \"zerolinecolor\": \"white\"}}, \"shapedefaults\": {\"line\": {\"color\": \"#2a3f5f\"}}, \"ternary\": {\"aaxis\": {\"gridcolor\": \"white\", \"linecolor\": \"white\", \"ticks\": \"\"}, \"baxis\": {\"gridcolor\": \"white\", \"linecolor\": \"white\", \"ticks\": \"\"}, \"bgcolor\": \"#E5ECF6\", \"caxis\": {\"gridcolor\": \"white\", \"linecolor\": \"white\", \"ticks\": \"\"}}, \"title\": {\"x\": 0.05}, \"xaxis\": {\"automargin\": true, \"gridcolor\": \"white\", \"linecolor\": \"white\", \"ticks\": \"\", \"title\": {\"standoff\": 15}, \"zerolinecolor\": \"white\", \"zerolinewidth\": 2}, \"yaxis\": {\"automargin\": true, \"gridcolor\": \"white\", \"linecolor\": \"white\", \"ticks\": \"\", \"title\": {\"standoff\": 15}, \"zerolinecolor\": \"white\", \"zerolinewidth\": 2}}}, \"title\": {\"text\": \"Sancerre Les Culs de Beaujeu Fran\\u00e7ois Cotat 2006\"}, \"xaxis\": {\"anchor\": \"y\", \"domain\": [0.0, 1.0], \"title\": {\"text\": \"Ann\\u00e9e de cotation\"}}, \"yaxis\": {\"anchor\": \"x\", \"domain\": [0.0, 1.0], \"title\": {\"text\": \"Valeur d'une bouteille de 75 cL en \\u20ac (Idealwine)\"}}},                        {\"responsive\": true}                    ).then(function(){\n",
       "                            \n",
       "var gd = document.getElementById('78373cdf-b014-40dc-9abe-2171cb007ace');\n",
       "var x = new MutationObserver(function (mutations, observer) {{\n",
       "        var display = window.getComputedStyle(gd).display;\n",
       "        if (!display || display === 'none') {{\n",
       "            console.log([gd, 'removed!']);\n",
       "            Plotly.purge(gd);\n",
       "            observer.disconnect();\n",
       "        }}\n",
       "}});\n",
       "\n",
       "// Listen for the removal of the full notebook cells\n",
       "var notebookContainer = gd.closest('#notebook-container');\n",
       "if (notebookContainer) {{\n",
       "    x.observe(notebookContainer, {childList: true});\n",
       "}}\n",
       "\n",
       "// Listen for the clearing of the current output cell\n",
       "var outputEl = gd.closest('.output');\n",
       "if (outputEl) {{\n",
       "    x.observe(outputEl, {childList: true});\n",
       "}}\n",
       "\n",
       "                        })                };                });            </script>        </div>"
      ]
     },
     "metadata": {},
     "output_type": "display_data"
    }
   ],
   "source": [
    "import plotly.express as px\n",
    "import plotly.graph_objects as go\n",
    "\n",
    "# Visualisation sur un vin :\n",
    "name = \"Beaujeu\"\n",
    "domain = \"Cotat\"\n",
    "vintage = 2006\n",
    "color = \"Blanc\"\n",
    "DF_vin = DF_data[DF_data.nom_du_vin.apply(lambda s: (s.find(name)>-1)) & (DF_data.couleur==color) \\\n",
    "                 & DF_data.domaine.apply(lambda s: (s.find(domain)>-1))& (DF_data.millesime==vintage)]\n",
    "print(len(DF_vin))\n",
    "display(DF_vin.head(30))\n",
    "title = DF_vin.nom_du_vin.tolist()[0] + \" \" + str(DF_vin.millesime.tolist()[0])\n",
    "\n",
    "fig = px.scatter(DF_vin, x='annee_cote', y='cote', title=title)\n",
    "fig.update_traces(mode=\"lines+markers\", line=dict(color=\"#d41010\"))\n",
    "fig.update_traces(marker=go.scatter.Marker(size=10))\n",
    "fig.update_layout(showlegend=False)\n",
    "fig.update_xaxes(title_text=\"Année de cotation\")\n",
    "fig.update_yaxes(title_text=\"Valeur d'une bouteille de 75 cL en € (Idealwine)\")\n",
    "fig.show()\n"
   ]
  },
  {
   "cell_type": "code",
   "execution_count": null,
   "metadata": {},
   "outputs": [],
   "source": []
  },
  {
   "cell_type": "code",
   "execution_count": null,
   "metadata": {},
   "outputs": [],
   "source": []
  },
  {
   "cell_type": "code",
   "execution_count": null,
   "metadata": {},
   "outputs": [],
   "source": []
  }
 ],
 "metadata": {
  "kernelspec": {
   "display_name": "Python 3",
   "language": "python",
   "name": "python3"
  },
  "language_info": {
   "codemirror_mode": {
    "name": "ipython",
    "version": 3
   },
   "file_extension": ".py",
   "mimetype": "text/x-python",
   "name": "python",
   "nbconvert_exporter": "python",
   "pygments_lexer": "ipython3",
   "version": "3.8.3"
  }
 },
 "nbformat": 4,
 "nbformat_minor": 2
}
